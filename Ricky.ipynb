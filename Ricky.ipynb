{
 "cells": [
  {
   "cell_type": "code",
   "execution_count": 1,
   "id": "efe1575c",
   "metadata": {},
   "outputs": [
    {
     "name": "stdout",
     "output_type": "stream",
     "text": [
      "2002,2009,2016,2023,2037,2044,2051,2058,2072,2079,2086,2093,2107,2114,2121,2128,2142,2149,2156,2163,2177,2184,2191,2198,2212,2219,2226,2233,2247,2254,2261,2268,2282,2289,2296,2303,2317,2324,2331,2338,2352,2359,2366,2373,2387,2394,2401,2408,2422,2429,2436,2443,2457,2464,2471,2478,2492,2499,2506,2513,2527,2534,2541,2548,2562,2569,2576,2583,2597,2604,2611,2618,2632,2639,2646,2653,2667,2674,2681,2688,2702,2709,2716,2723,2737,2744,2751,2758,2772,2779,2786,2793,2807,2814,2821,2828,2842,2849,2856,2863,2877,2884,2891,2898,2912,2919,2926,2933,2947,2954,2961,2968,2982,2989,2996,3003,3017,3024,3031,3038,3052,3059,3066,3073,3087,3094,3101,3108,3122,3129,3136,3143,3157,3164,3171,3178,3192,3199\n"
     ]
    }
   ],
   "source": [
    "print(*(i for i in range(2000, 3201) if i%7 == 0 and i%5 != 0), sep=\",\")"
   ]
  },
  {
   "cell_type": "code",
   "execution_count": 2,
   "id": "1bda2fa8",
   "metadata": {},
   "outputs": [
    {
     "name": "stdout",
     "output_type": "stream",
     "text": [
      "8\n",
      "40320\n"
     ]
    }
   ],
   "source": [
    "n = int(input())\n",
    "def shortFact(x): return 1 if x <= 1 else x*shortFact(x-1)\n",
    "print(shortFact(n))"
   ]
  },
  {
   "cell_type": "code",
   "execution_count": 3,
   "id": "a2bf9019",
   "metadata": {},
   "outputs": [
    {
     "name": "stdout",
     "output_type": "stream",
     "text": [
      "9\n",
      "{1: 1, 2: 4, 3: 9, 4: 16, 5: 25, 6: 36, 7: 49, 8: 64, 9: 81}\n"
     ]
    }
   ],
   "source": [
    "n = int(input())\n",
    "ans={i : i*i for i in range(1,n+1)}\n",
    "print(ans)"
   ]
  },
  {
   "cell_type": "code",
   "execution_count": 4,
   "id": "26995263",
   "metadata": {},
   "outputs": [
    {
     "name": "stdout",
     "output_type": "stream",
     "text": [
      "34,67,55,33,12,98\n",
      "['34', '67', '55', '33', '12', '98']\n",
      "('34', '67', '55', '33', '12', '98')\n"
     ]
    }
   ],
   "source": [
    "lst = input().split(',')  \n",
    "\n",
    "tpl = tuple(lst)          # tuple method converts list to tuple\n",
    "\n",
    "print(lst)\n",
    "print(tpl)"
   ]
  },
  {
   "cell_type": "code",
   "execution_count": 5,
   "id": "141a32f1",
   "metadata": {},
   "outputs": [
    {
     "name": "stdout",
     "output_type": "stream",
     "text": [
      "ricky\n",
      "RICKY\n"
     ]
    }
   ],
   "source": [
    "class IOstring():\n",
    "    def get_string(self):\n",
    "        self.s = input()\n",
    "\n",
    "    def print_string(self):\n",
    "        print(self.s.upper())\n",
    "\n",
    "xx = IOstring()\n",
    "xx.get_string()\n",
    "xx.print_string()"
   ]
  },
  {
   "cell_type": "code",
   "execution_count": 6,
   "id": "f1a7ff1f",
   "metadata": {},
   "outputs": [
    {
     "name": "stdout",
     "output_type": "stream",
     "text": [
      "100,150,180\n",
      "18,22,24\n"
     ]
    }
   ],
   "source": [
    "my_list = [int(x) for x in input('').split(',')]\n",
    "C, H, x = 50, 30, []\n",
    "\n",
    "for D in my_list:\n",
    "    Q = ((2*C*D)/H)**(1/2)\n",
    "    x.append(round(Q))\n",
    "\n",
    "print(','.join(map(str, x)))"
   ]
  },
  {
   "cell_type": "code",
   "execution_count": 1,
   "id": "65c3a9bb",
   "metadata": {},
   "outputs": [
    {
     "name": "stdout",
     "output_type": "stream",
     "text": [
      "3,5\n",
      "[[0, 0, 0, 0, 0], [0, 1, 2, 3, 4], [0, 2, 4, 6, 8]]\n"
     ]
    }
   ],
   "source": [
    "#7\n",
    "x,y = map(int,input().split(','))\n",
    "lst = [[i*j for j in range(y)] for i in range(x)]\n",
    "print(lst)"
   ]
  },
  {
   "cell_type": "code",
   "execution_count": null,
   "id": "0fdbce7e",
   "metadata": {},
   "outputs": [],
   "source": [
    "#8\n",
    "lst = input().split(',')\n",
    "lst.sort()\n",
    "print(\",\".join(lst))"
   ]
  },
  {
   "cell_type": "code",
   "execution_count": null,
   "id": "58f62f67",
   "metadata": {},
   "outputs": [],
   "source": [
    "#9\n",
    "def inputs():\n",
    "    while True:\n",
    "        string = input()\n",
    "        if not string:\n",
    "            return\n",
    "        yield string\n",
    "\n",
    "print(*(line.upper() for line in inputs()),sep='\\n')"
   ]
  },
  {
   "cell_type": "code",
   "execution_count": null,
   "id": "441cf41a",
   "metadata": {},
   "outputs": [],
   "source": [
    "#10\n",
    "inp_string = input(\"Enter string: \").split()\n",
    "out_string = []\n",
    "for words in inp_string:\n",
    "    if words not in out_string:\n",
    "        out_string.append(words)\n",
    "print(\" \".join(sorted(out_string)))"
   ]
  },
  {
   "cell_type": "code",
   "execution_count": null,
   "id": "bf72b83e",
   "metadata": {},
   "outputs": [],
   "source": [
    "#11\n",
    "data = input().split(',')\n",
    "data = list(filter(lambda i:int(i,2)%5==0,data))    # lambda is an operator that helps to write function of one line\n",
    "print(\",\".join(data))"
   ]
  },
  {
   "cell_type": "code",
   "execution_count": null,
   "id": "94b22156",
   "metadata": {},
   "outputs": [],
   "source": [
    "#12\n",
    "lst = [str(i) for i in range(1000,3001)]\n",
    "lst = list(filter(lambda i:all(ord(j)%2 == 0 for j in i), lst))   # using lambda to define function inside filter function\n",
    "print(\",\".join(lst))"
   ]
  },
  {
   "cell_type": "code",
   "execution_count": null,
   "id": "41161560",
   "metadata": {},
   "outputs": [],
   "source": [
    "#13\n",
    "word = input()\n",
    "letter, digit = 0,0\n",
    "\n",
    "for i in word:\n",
    "    if i.isalpha(): # returns True if alphabet\n",
    "        letter += 1\n",
    "    elif i.isnumeric(): # returns True if numeric\n",
    "        digit += 1\n",
    "print(f\"LETTERS {letter}\\n{digits}\") # two different types of formating method is shown in both solution"
   ]
  },
  {
   "cell_type": "code",
   "execution_count": null,
   "id": "33f78f88",
   "metadata": {},
   "outputs": [],
   "source": [
    "#14\n",
    "word = input()\n",
    "upper,lower = 0,0\n",
    "\n",
    "for i in word:\n",
    "        lower+=i.islower()\n",
    "        upper+=i.isupper()\n",
    "\n",
    "print(\"UPPER CASE {0}\\nLOWER CASE {1}\".format(upper,lower))"
   ]
  },
  {
   "cell_type": "code",
   "execution_count": null,
   "id": "1fe15772",
   "metadata": {},
   "outputs": [],
   "source": [
    "#15\n",
    "a = input()\n",
    "total = int(a) + int(2*a) + int(3*a) + int(4*a)  # N*a=Na, for example  a=\"23\", 2*a=\"2323\",3*a=\"232323\"\n",
    "print(total)"
   ]
  },
  {
   "cell_type": "code",
   "execution_count": null,
   "id": "9f591e41",
   "metadata": {},
   "outputs": [],
   "source": [
    "#16\n",
    "lst = [str(int(i)**2) for i in input().split(',') if int(i) % 2]\n",
    "print(\",\".join(lst))"
   ]
  },
  {
   "cell_type": "code",
   "execution_count": null,
   "id": "65fed9f2",
   "metadata": {},
   "outputs": [],
   "source": [
    "total = 0\n",
    "while True:\n",
    "    s = input().split()\n",
    "    if not s:            # break if the string is empty\n",
    "        break\n",
    "    cm,num = map(str,s)    # two inputs are distributed in cm and num in string data type\n",
    "\n",
    "    if cm=='D':\n",
    "        total+=int(num)\n",
    "    if cm=='W':\n",
    "        total-=int(num)\n",
    "\n",
    "print(total)"
   ]
  },
  {
   "cell_type": "code",
   "execution_count": null,
   "id": "f9eac740",
   "metadata": {},
   "outputs": [],
   "source": [
    "#18\n",
    "import  re\n",
    "\n",
    "s = input().split(',')\n",
    "lst = []\n",
    "\n",
    "for i in s:\n",
    "    cnt = 0\n",
    "    cnt+=(6<=len(i) and len(i)<=12)\n",
    "    cnt+=bool(re.search(\"[a-z]\",i))      # here re module includes a function re.search() which returns the object information\n",
    "    cnt+=bool(re.search(\"[A-Z]\",i))      # of where the pattern string i is matched with any of the [a-z]/[A-z]/[0=9]/[@#$] characters\n",
    "    cnt+=bool(re.search(\"[0-9]\",i))      # if not a single match found then returns NONE which converts to False in boolean\n",
    "    cnt+=bool(re.search(\"[@#$]\",i))      # expression otherwise True if found any.\n",
    "    if cnt == 5:\n",
    "        lst.append(i)\n",
    "\n",
    "print(\",\".join(lst))"
   ]
  },
  {
   "cell_type": "code",
   "execution_count": null,
   "id": "40632e74",
   "metadata": {},
   "outputs": [],
   "source": [
    "#19\n",
    "lst = []\n",
    "while True:\n",
    "    s = input().split(',')\n",
    "    if not s[0]:                          # breaks for blank input\n",
    "        break\n",
    "    lst.append(tuple(s))\n",
    "\n",
    "lst.sort(key= lambda x:(x[0],int(x[1]),int(x[2])))  # here key is defined by lambda and the data is sorted by element priority 0>1>2 in accending order\n",
    "print(lst)"
   ]
  },
  {
   "cell_type": "code",
   "execution_count": null,
   "id": "e6eb2e8c",
   "metadata": {},
   "outputs": [],
   "source": [
    "'''20'''\n",
    "class MyGen():\n",
    "    def by_seven(self, n):\n",
    "        for i in range(0, int(n/7) + 1):\n",
    "            yield i * 7\n",
    "\n",
    "for i in MyGen().by_seven( int(input('Please enter a number... ')) ):\n",
    "    print(i)"
   ]
  },
  {
   "cell_type": "code",
   "execution_count": null,
   "id": "2643dbf3",
   "metadata": {},
   "outputs": [],
   "source": [
    "#21\n",
    "import  math\n",
    "\n",
    "x,y = 0,0\n",
    "while True:\n",
    "    s = input().split()\n",
    "    if not s:\n",
    "        break\n",
    "    if s[0]=='UP':                  # s[0] indicates command\n",
    "        x-=int(s[1])                # s[1] indicates unit of move\n",
    "    if s[0]=='DOWN':\n",
    "        x+=int(s[1])\n",
    "    if s[0]=='LEFT':\n",
    "        y-=int(s[1])\n",
    "    if s[0]=='RIGHT':\n",
    "        y+=int(s[1])\n",
    "                                    # N**P means N^P\n",
    "dist = round(math.sqrt(x**2 + y**2))  # euclidean distance = square root of (x^2+y^2) and rounding it to nearest integer\n",
    "print(dist)"
   ]
  },
  {
   "cell_type": "code",
   "execution_count": null,
   "id": "439a3f6b",
   "metadata": {},
   "outputs": [],
   "source": [
    "#22\n",
    "ss = input().split()\n",
    "word = sorted(set(ss))     # split words are stored and sorted as a set\n",
    "\n",
    "for i in word:\n",
    "    print(\"{0}:{1}\".format(i,ss.count(i)))"
   ]
  },
  {
   "cell_type": "code",
   "execution_count": null,
   "id": "a22d0f4d",
   "metadata": {},
   "outputs": [],
   "source": [
    "#23\n",
    "n=int(input())\n",
    "print(n**2)"
   ]
  },
  {
   "cell_type": "code",
   "execution_count": null,
   "id": "b7216c4a",
   "metadata": {},
   "outputs": [],
   "source": [
    "#24\n",
    "print(str.__doc__)\n",
    "print(sorted.__doc__)\n",
    "\n",
    "def pow(n,p):\n",
    "    '''\n",
    "    param n: This is any integer number\n",
    "    param p: This is power over n\n",
    "    return:  n to the power p = n^p\n",
    "    '''\n",
    "\n",
    "    return n**p\n",
    "\n",
    "print(pow(3,4))\n",
    "print(pow.__doc__)"
   ]
  },
  {
   "cell_type": "code",
   "execution_count": null,
   "id": "a9c31ac9",
   "metadata": {},
   "outputs": [],
   "source": [
    "#26\n",
    "sum = lambda n1,n2 : n1 + n2      # here lambda is use to define little function as sum\n",
    "print(sum(1,2))"
   ]
  },
  {
   "cell_type": "code",
   "execution_count": null,
   "id": "ed22244c",
   "metadata": {},
   "outputs": [],
   "source": [
    "#27\n",
    "conv = lambda x : str(x)\n",
    "n = conv(10)\n",
    "print(n)\n",
    "print(type(n))            # checks the type of the variable"
   ]
  },
  {
   "cell_type": "code",
   "execution_count": null,
   "id": "146862c6",
   "metadata": {},
   "outputs": [],
   "source": [
    "#28\n",
    "sum = lambda s1,s2 : int(s1) + int(s2)\n",
    "print(sum(\"10\",\"45\"))      # 55"
   ]
  },
  {
   "cell_type": "code",
   "execution_count": null,
   "id": "4e5c45a5",
   "metadata": {},
   "outputs": [],
   "source": [
    "#29\n",
    "sum = lambda s1,s2 : s1 + s2\n",
    "print(sum(\"10\",\"45\"))        # 1045"
   ]
  },
  {
   "cell_type": "code",
   "execution_count": null,
   "id": "4baaf093",
   "metadata": {},
   "outputs": [],
   "source": [
    "'''30'''\n",
    "func = lambda a,b: print(max((a,b),key=len)) if len(a)!=len(b) else print(a+'\\n'+b)"
   ]
  },
  {
   "cell_type": "code",
   "execution_count": null,
   "id": "6859b9b8",
   "metadata": {},
   "outputs": [],
   "source": [
    "#31\n",
    "def printDict():\n",
    "    dict={i:i**2 for i in range(1,21)}   # Using comprehension method and\n",
    "    print(dict)\n",
    "\n",
    "printDict()"
   ]
  },
  {
   "cell_type": "code",
   "execution_count": null,
   "id": "a80a4847",
   "metadata": {},
   "outputs": [],
   "source": [
    "#32\n",
    "def printDict():\n",
    "    dict = {i: i**2 for i in range(1, 21)}\n",
    "    print(dict.keys())      # print keys of a dictionary\n",
    "\n",
    "printDict()"
   ]
  },
  {
   "cell_type": "code",
   "execution_count": null,
   "id": "0b4686bd",
   "metadata": {},
   "outputs": [],
   "source": [
    "#33\n",
    "def printList():\n",
    "    lst = [i ** 2 for i in range(1, 21)]\n",
    "    print(lst)\n",
    "\n",
    "printList()"
   ]
  },
  {
   "cell_type": "code",
   "execution_count": null,
   "id": "95bcea74",
   "metadata": {},
   "outputs": [],
   "source": [
    "'''34'''\n",
    "func = lambda :print([i**2 for i in range(1,21)][:5])"
   ]
  },
  {
   "cell_type": "code",
   "execution_count": null,
   "id": "70eae496",
   "metadata": {},
   "outputs": [],
   "source": [
    "#35\n",
    "def printList():\n",
    "    lst = [i ** 2 for i in range(1, 21)]\n",
    "    for i in range(19,14,-1):\n",
    "        print(lst[i])\n",
    "\n",
    "printList()"
   ]
  },
  {
   "cell_type": "code",
   "execution_count": null,
   "id": "b741e54e",
   "metadata": {},
   "outputs": [],
   "source": [
    "#36\n",
    "def printList():\n",
    "    lst = [i ** 2 for i in range(1, 21)]\n",
    "    for i in range(5,20):\n",
    "        print(lst[i])\n",
    "\n",
    "printList()"
   ]
  },
  {
   "cell_type": "code",
   "execution_count": null,
   "id": "8335b969",
   "metadata": {},
   "outputs": [],
   "source": [
    "#37\n",
    "def printTupple():\n",
    "    lst = [i ** 2 for i in range(1, 21)]\n",
    "    print(tuple(lst))\n",
    "\n",
    "printTupple()"
   ]
  },
  {
   "cell_type": "code",
   "execution_count": 1,
   "id": "99f0eebf",
   "metadata": {},
   "outputs": [
    {
     "name": "stdout",
     "output_type": "stream",
     "text": [
      "(1, 2, 3, 4, 5) (6, 7, 8, 9, 10)\n"
     ]
    }
   ],
   "source": [
    "'''38'''\n",
    "\n",
    "tup = (1, 2, 3, 4, 5, 6, 7, 8, 9, 10)\n",
    "lt = int(len(tup)/2)\n",
    "print(tup[:lt], tup[lt:])"
   ]
  },
  {
   "cell_type": "code",
   "execution_count": null,
   "id": "b454acb1",
   "metadata": {},
   "outputs": [],
   "source": [
    "tpl = (1,2,3,4,5,6,7,8,9,10)\n",
    "tpl1 = tuple(i for i in tpl if i%2 == 0)\n",
    "print(tpl1)"
   ]
  },
  {
   "cell_type": "code",
   "execution_count": 2,
   "id": "c83a791c",
   "metadata": {},
   "outputs": [
    {
     "name": "stdout",
     "output_type": "stream",
     "text": [
      "Enter string:Yes\n",
      "Yes\n"
     ]
    }
   ],
   "source": [
    "'''40'''\n",
    "input = input('Enter string:')\n",
    "output = ''.join(['Yes' if input == 'yes' or input =='YES' or input =='Yes' else 'No' ])\n",
    "print(str(output))"
   ]
  },
  {
   "cell_type": "code",
   "execution_count": null,
   "id": "640a262a",
   "metadata": {},
   "outputs": [],
   "source": [
    "# 41\n",
    "\n",
    "li = [1,2,3,4,5,6,7,8,9,10]\n",
    "squaredNumbers = map(lambda x: x**2, li)  # returns map type object data\n",
    "print(list(squaredNumbers))               # converting the object into list"
   ]
  },
  {
   "cell_type": "code",
   "execution_count": null,
   "id": "e13e2bd7",
   "metadata": {},
   "outputs": [],
   "source": [
    "\"\"\"42\"\"\"\n",
    "def even(item):\n",
    "    if item % 2 == 0:\n",
    "        return item**2\n",
    "\n",
    "\n",
    "lst = [i for i in range(1, 11)]\n",
    "print(list(filter(lambda j: j is not None, list(map(even, lst)))))"
   ]
  },
  {
   "cell_type": "code",
   "execution_count": null,
   "id": "2ef378d7",
   "metadata": {},
   "outputs": [],
   "source": [
    "#43\n",
    "def even(x):\n",
    "    return x%2==0\n",
    "\n",
    "evenNumbers = filter(even, range(1,21))\n",
    "print(list(evenNumbers))"
   ]
  },
  {
   "cell_type": "code",
   "execution_count": null,
   "id": "af33b2be",
   "metadata": {},
   "outputs": [],
   "source": [
    "#44\n",
    "def sqr(x):\n",
    "    return x*x\n",
    "\n",
    "squaredNumbers = list(map(sqr, range(1,21)))\n",
    "print (squaredNumbers)"
   ]
  },
  {
   "cell_type": "code",
   "execution_count": null,
   "id": "58798c85",
   "metadata": {},
   "outputs": [],
   "source": [
    "#45\n",
    "class American():\n",
    "    @staticmethod\n",
    "    def printNationality():\n",
    "        print(\"I am American\")\n",
    "\n",
    "american = American()\n",
    "american.printNationality()   # this will not run if @staticmethod does not decorates the function.\n",
    "                              # Because the class has no instance.\n",
    "\n",
    "American.printNationality()   # this will run even though the @staticmethod\n",
    "                              # does not decorate printNationality()"
   ]
  },
  {
   "cell_type": "code",
   "execution_count": null,
   "id": "fa55499b",
   "metadata": {},
   "outputs": [],
   "source": [
    "#46\n",
    "class American():\n",
    "    pass\n",
    "\n",
    "class NewYorker(American):\n",
    "    pass\n",
    "\n",
    "american = American()\n",
    "newyorker = NewYorker()\n",
    "\n",
    "print(american)\n",
    "print(newyorker)"
   ]
  },
  {
   "cell_type": "code",
   "execution_count": null,
   "id": "aada0ee2",
   "metadata": {},
   "outputs": [],
   "source": [
    "#47\n",
    "class Circle():\n",
    "    def __init__(self,r):\n",
    "        self.radius = r\n",
    "\n",
    "    def area(self):\n",
    "        return 3.1416*(self.radius**2)\n",
    "\n",
    "\n",
    "circle = Circle(5)\n",
    "print(circle.area())"
   ]
  },
  {
   "cell_type": "code",
   "execution_count": null,
   "id": "97b1d670",
   "metadata": {},
   "outputs": [],
   "source": [
    "#48\n",
    "class Rectangle():\n",
    "    def __init__(self,l,w):\n",
    "        self.length = l\n",
    "        self.width = w\n",
    "\n",
    "    def area(self):\n",
    "        return self.length*self.width\n",
    "\n",
    "\n",
    "rect = Rectangle(2,4)\n",
    "print(rect.area())\n"
   ]
  },
  {
   "cell_type": "code",
   "execution_count": null,
   "id": "9bf66b1c",
   "metadata": {},
   "outputs": [],
   "source": [
    "#49\n",
    "class Shape():\n",
    "    def __init__(self):\n",
    "        pass\n",
    "\n",
    "    def area(self):\n",
    "        return 0\n",
    "\n",
    "class Square(Shape):\n",
    "    def __init__(self,length = 0):\n",
    "        Shape.__init__(self)\n",
    "        self.length = length\n",
    "\n",
    "    def area(self):\n",
    "        return self.length*self.length\n",
    "\n",
    "Asqr = Square(5)\n",
    "print(Asqr.area())      # prints 25 as given argument\n",
    "\n",
    "print(Square().area())  # prints zero as default area"
   ]
  },
  {
   "cell_type": "code",
   "execution_count": null,
   "id": "b78a2487",
   "metadata": {},
   "outputs": [],
   "source": [
    "#50\n",
    "raise RuntimeError('something wrong')"
   ]
  },
  {
   "cell_type": "code",
   "execution_count": null,
   "id": "d0511c4c",
   "metadata": {},
   "outputs": [],
   "source": [
    "#51\n",
    "def divide():\n",
    "    return 5/0\n",
    "\n",
    "try:\n",
    "    divide()\n",
    "except ZeroDivisionError as ze:\n",
    "    print(\"Why on earth you are dividing a number by ZERO!!\")\n",
    "except:\n",
    "    print(\"Any other exception\")\n"
   ]
  },
  {
   "cell_type": "code",
   "execution_count": 3,
   "id": "8d3a6760",
   "metadata": {},
   "outputs": [
    {
     "name": "stdout",
     "output_type": "stream",
     "text": [
      "19\n",
      "The error raised: Input is grater than 10\n"
     ]
    }
   ],
   "source": [
    "#52\n",
    "class CustomException(Exception):\n",
    "    \"\"\"Exception raised for custom purpose\n",
    "\n",
    "    Attributes:\n",
    "        message -- explanation of the error\n",
    "    \"\"\"\n",
    "\n",
    "    def __init__(self, message):\n",
    "        self.message = message\n",
    "\n",
    "\n",
    "num = int(input())\n",
    "\n",
    "try:\n",
    "    if num < 10:\n",
    "        raise CustomException(\"Input is less than 10\")\n",
    "    elif num > 10:\n",
    "        raise CustomException(\"Input is grater than 10\")\n",
    "except CustomException as ce:\n",
    "    print(\"The error raised: \" + ce.message)\n"
   ]
  },
  {
   "cell_type": "code",
   "execution_count": null,
   "id": "91f5fd84",
   "metadata": {},
   "outputs": [],
   "source": [
    "#53\n",
    "email = \"john@google.com\"\n",
    "email = email.split('@')\n",
    "print(email[0])"
   ]
  },
  {
   "cell_type": "code",
   "execution_count": null,
   "id": "69ec96cf",
   "metadata": {},
   "outputs": [],
   "source": [
    "#54\n",
    "import re\n",
    "\n",
    "email = \"john@google.com elise@python.com\"\n",
    "pattern = \"\\w+@(\\w+).com\"\n",
    "ans = re.findall(pattern,email)\n",
    "print(ans)"
   ]
  },
  {
   "cell_type": "code",
   "execution_count": null,
   "id": "659d23f4",
   "metadata": {},
   "outputs": [],
   "source": [
    "#55\n",
    "email = input().split()\n",
    "ans = [word for word in email if word.isdigit()]  # using list comprehension method\n",
    "print(ans)"
   ]
  },
  {
   "cell_type": "code",
   "execution_count": null,
   "id": "f513e4cd",
   "metadata": {},
   "outputs": [],
   "source": [
    "#56\n",
    "unicodeString = u\"hello world!\"\n",
    "print unicodeString"
   ]
  },
  {
   "cell_type": "code",
   "execution_count": null,
   "id": "4805efa9",
   "metadata": {},
   "outputs": [],
   "source": [
    "#57\n",
    "s = input()\n",
    "u = s.encode('utf-8')\n",
    "print(u)"
   ]
  },
  {
   "cell_type": "code",
   "execution_count": 4,
   "id": "f29fa3c0",
   "metadata": {},
   "outputs": [],
   "source": [
    "#58\n",
    "# -*- coding: utf-8 -*-\n"
   ]
  },
  {
   "cell_type": "code",
   "execution_count": null,
   "id": "c9a1b28d",
   "metadata": {},
   "outputs": [],
   "source": [
    "#59\n",
    "n = int(input())\n",
    "sum = 0\n",
    "for i in range(1, n+1):\n",
    "    sum+= i/(i+1)\n",
    "print(round(sum, 2))  # rounded to 2 decimal point"
   ]
  },
  {
   "cell_type": "code",
   "execution_count": null,
   "id": "d3b888a8",
   "metadata": {},
   "outputs": [],
   "source": [
    "#60\n",
    "def f(n):\n",
    "    if n == 0:\n",
    "        return 0\n",
    "    return f(n-1) + 100\n",
    "\n",
    "n = int(input())\n",
    "print(f(n))"
   ]
  },
  {
   "cell_type": "code",
   "execution_count": null,
   "id": "951545d5",
   "metadata": {},
   "outputs": [],
   "source": [
    "#61\n",
    "def f(n):\n",
    "    if n < 2:\n",
    "        return n\n",
    "    return f(n-1) + f(n-2)\n",
    "\n",
    "n = int(input())\n",
    "print(f(n))"
   ]
  },
  {
   "cell_type": "code",
   "execution_count": null,
   "id": "77791dd0",
   "metadata": {},
   "outputs": [],
   "source": [
    "#62\n",
    "def f(n):\n",
    "    if n < 2:\n",
    "        fibo[n] = n\n",
    "        return fibo[n]\n",
    "    fibo[n] = f(n-1) + f(n-2)\n",
    "    return fibo[n]\n",
    "\n",
    "n = int(input())\n",
    "fibo = [0]*(n+1)  # initialize a list of size (n+1)\n",
    "f(n)              # call once and it will set value to fibo[0-n]\n",
    "fibo = [str(i) for i in fibo]   # converting integer data to string type\n",
    "ans = \",\".join(fibo)    # joining all string element of fibo with ',' character\n",
    "print(ans)\n"
   ]
  },
  {
   "cell_type": "code",
   "execution_count": null,
   "id": "dd52153a",
   "metadata": {},
   "outputs": [],
   "source": [
    "#63\n",
    "n = int(input())\n",
    "\n",
    "for i in range(0, n+1, 2):\n",
    "  if i < n - 1:\n",
    "    print(i, end = ',' )\n",
    "  else:\n",
    "    print(i)"
   ]
  },
  {
   "cell_type": "code",
   "execution_count": null,
   "id": "16c34783",
   "metadata": {},
   "outputs": [],
   "source": [
    "#64\n",
    "def generate(n):\n",
    "    for i in range(n+1):\n",
    "        if i % 35 == 0:    # 5*7 = 35, if a number is divisible by a & b then it is also divisible by a*b\n",
    "            yield i\n",
    "\n",
    "n = int(input())\n",
    "resp = [str(i) for i in generate(n)]\n",
    "print(\",\".join(resp))\n"
   ]
  },
  {
   "cell_type": "code",
   "execution_count": null,
   "id": "f6babec7",
   "metadata": {},
   "outputs": [],
   "source": [
    "#65\n",
    "data = [2,4,5,6]\n",
    "for i in data:\n",
    "    assert i%2 == 0, \"{} is not an even number\".format(i)"
   ]
  },
  {
   "cell_type": "code",
   "execution_count": null,
   "id": "b637b19a",
   "metadata": {},
   "outputs": [],
   "source": [
    "#66\n",
    "expression = input()\n",
    "ans = eval(expression)\n",
    "print(ans)"
   ]
  },
  {
   "cell_type": "code",
   "execution_count": null,
   "id": "f8164817",
   "metadata": {},
   "outputs": [],
   "source": [
    "#67\n",
    "def binary_search(lst, item):\n",
    "    low = 0\n",
    "    high = len(lst) - 1\n",
    "    \n",
    "    while low <= high:\n",
    "        mid = round((low + high) / 2)\n",
    "        \n",
    "        if lst[mid] == item:\n",
    "            return mid\n",
    "        elif lst[mid] > item:\n",
    "            high = mid - 1\n",
    "        else:\n",
    "            low = mid + 1\n",
    "    return None\n",
    "    \n",
    "lst = [1,3,5,7,]\n",
    "print(binary_search(lst, 9))   "
   ]
  },
  {
   "cell_type": "code",
   "execution_count": null,
   "id": "73520a2a",
   "metadata": {},
   "outputs": [],
   "source": [
    "#68\n",
    "import random\n",
    "rand_num = random.uniform(10,100)\n",
    "print(rand_num)"
   ]
  },
  {
   "cell_type": "code",
   "execution_count": null,
   "id": "fccdc22d",
   "metadata": {},
   "outputs": [],
   "source": [
    "#69\n",
    "import random\n",
    "rand_num = random.uniform(5,95)\n",
    "print(rand_num)"
   ]
  },
  {
   "cell_type": "code",
   "execution_count": null,
   "id": "d59e47e6",
   "metadata": {},
   "outputs": [],
   "source": [
    "#70\n",
    "import random\n",
    "resp = [i for i in range(0,11,2)]\n",
    "print(random.choice(resp))"
   ]
  },
  {
   "cell_type": "code",
   "execution_count": null,
   "id": "295e36bc",
   "metadata": {},
   "outputs": [],
   "source": [
    "#71\n",
    "import random\n",
    "resp = [i for i in range(10,151) if i % 35 == 0 ]\n",
    "print(random.choice(resp))"
   ]
  },
  {
   "cell_type": "code",
   "execution_count": null,
   "id": "9ee5f564",
   "metadata": {},
   "outputs": [],
   "source": [
    "#72\n",
    "import random\n",
    "resp = random.sample(range(100,201),5)\n",
    "print(resp)"
   ]
  },
  {
   "cell_type": "code",
   "execution_count": null,
   "id": "1731d517",
   "metadata": {},
   "outputs": [],
   "source": [
    "#73\n",
    "import random\n",
    "resp = random.sample(range(100,201,2),5)\n",
    "print(resp)"
   ]
  },
  {
   "cell_type": "code",
   "execution_count": null,
   "id": "a928ec7e",
   "metadata": {},
   "outputs": [],
   "source": [
    "#74\n",
    "import random\n",
    "lst = [i for i in range(1,1001) if i%35 == 0]\n",
    "resp = random.sample(lst,5)\n",
    "print(resp)"
   ]
  },
  {
   "cell_type": "code",
   "execution_count": null,
   "id": "45136b5b",
   "metadata": {},
   "outputs": [],
   "source": [
    "#75\n",
    "import random\n",
    "print random.randrange(7,16)"
   ]
  }
 ],
 "metadata": {
  "kernelspec": {
   "display_name": "Python 3 (ipykernel)",
   "language": "python",
   "name": "python3"
  },
  "language_info": {
   "codemirror_mode": {
    "name": "ipython",
    "version": 3
   },
   "file_extension": ".py",
   "mimetype": "text/x-python",
   "name": "python",
   "nbconvert_exporter": "python",
   "pygments_lexer": "ipython3",
   "version": "3.9.7"
  }
 },
 "nbformat": 4,
 "nbformat_minor": 5
}
